{
  "nbformat": 4,
  "nbformat_minor": 0,
  "metadata": {
    "colab": {
      "name": "Assignment_2_LSTM",
      "provenance": [],
      "machine_shape": "hm"
    },
    "kernelspec": {
      "name": "python3",
      "display_name": "Python 3"
    },
    "accelerator": "GPU"
  },
  "cells": [
    {
      "cell_type": "code",
      "metadata": {
        "id": "kh8_nTLZhDMu",
        "colab_type": "code",
        "outputId": "e9d815cf-2197-440a-aa77-fbf839095820",
        "colab": {
          "base_uri": "https://localhost:8080/",
          "height": 122
        }
      },
      "source": [
        "from google.colab import drive\n",
        "drive.mount('/content/drive')"
      ],
      "execution_count": 1,
      "outputs": [
        {
          "output_type": "stream",
          "text": [
            "Go to this URL in a browser: https://accounts.google.com/o/oauth2/auth?client_id=947318989803-6bn6qk8qdgf4n4g3pfee6491hc0brc4i.apps.googleusercontent.com&redirect_uri=urn%3Aietf%3Awg%3Aoauth%3A2.0%3Aoob&scope=email%20https%3A%2F%2Fwww.googleapis.com%2Fauth%2Fdocs.test%20https%3A%2F%2Fwww.googleapis.com%2Fauth%2Fdrive%20https%3A%2F%2Fwww.googleapis.com%2Fauth%2Fdrive.photos.readonly%20https%3A%2F%2Fwww.googleapis.com%2Fauth%2Fpeopleapi.readonly&response_type=code\n",
            "\n",
            "Enter your authorization code:\n",
            "··········\n",
            "Mounted at /content/drive\n"
          ],
          "name": "stdout"
        }
      ]
    },
    {
      "cell_type": "code",
      "metadata": {
        "id": "2E8dqbgQiG4p",
        "colab_type": "code",
        "outputId": "6b65093f-a71d-45fa-cb93-200b772a3320",
        "colab": {
          "base_uri": "https://localhost:8080/",
          "height": 34
        }
      },
      "source": [
        "cd /content/drive/My\\ Drive/"
      ],
      "execution_count": 2,
      "outputs": [
        {
          "output_type": "stream",
          "text": [
            "/content/drive/My Drive\n"
          ],
          "name": "stdout"
        }
      ]
    },
    {
      "cell_type": "code",
      "metadata": {
        "id": "_CRFHtemhUpF",
        "colab_type": "code",
        "outputId": "efbd3fec-187f-435b-d94f-28d340192a41",
        "colab": {
          "base_uri": "https://localhost:8080/",
          "height": 34
        }
      },
      "source": [
        "\n",
        "import sys\n",
        "import numpy as np\n",
        "import re\n",
        "from keras.models import Sequential\n",
        "from keras.layers import Dense\n",
        "from keras.layers import Dropout\n",
        "from keras.layers import LSTM\n",
        "from keras.layers import SimpleRNN\n",
        "from keras.callbacks import ModelCheckpoint\n",
        "from keras.utils import np_utils\n",
        "import os\n",
        "from nltk.tokenize import TweetTokenizer\n",
        "\n",
        "from keras import backend as K\n",
        "import imp\n",
        "tknzr = TweetTokenizer()\n"
      ],
      "execution_count": 3,
      "outputs": [
        {
          "output_type": "stream",
          "text": [
            "Using TensorFlow backend.\n"
          ],
          "name": "stderr"
        }
      ]
    },
    {
      "cell_type": "code",
      "metadata": {
        "id": "Xu5-oGecjgHe",
        "colab_type": "code",
        "outputId": "0cac92df-5f29-4ef2-95a1-67e859b64d1a",
        "colab": {
          "base_uri": "https://localhost:8080/",
          "height": 119
        }
      },
      "source": [
        "train=[]\n",
        "test=[]\n",
        "with open('train1.txt', 'r') as lis:\n",
        "    for i in lis:\n",
        "        j = i[:-1]\n",
        "        train.append(j)\n",
        "lis.close()\n",
        "with open('test1.txt', 'r') as lis:\n",
        "    for i in lis:\n",
        "        j = i[:-1]\n",
        "        test.append(j)\n",
        "lis.close()\n",
        "\n",
        "nTrain=[]\n",
        "nTest=[]\n",
        "for i in train:\n",
        "    nTrain.extend(tknzr.tokenize(i))\n",
        "for i in test:\n",
        "    nTest.extend(tknzr.tokenize(i))\n",
        "    \n",
        "raw_text = nTrain\n",
        "# create mapping of unique chars to integers, and a reverse mapping\n",
        "chars=set(raw_text)\n",
        "print(len(chars))\n",
        "char_to_int = dict((c, i) for i, c in enumerate(chars))\n",
        "int_to_char = dict((i, c) for i, c in enumerate(chars))\n",
        "# summarize the loaded data\n",
        "n_chars = len(raw_text)\n",
        "n_vocab = len(chars)\n",
        "print(\"Total Characters: \", n_chars)\n",
        "print(\"Total Vocab: \", n_vocab)\n",
        "# prepare the dataset of input to output pairs encoded as integers\n",
        "seq_length = 5\n",
        "datax = []\n",
        "datay = []\n",
        "for i in range(0, n_chars - seq_length, 1):\n",
        "\tseq_in = raw_text[i:i + seq_length]\n",
        "\tseq_out = raw_text[i + seq_length]\n",
        "\tdatax.append([char_to_int[char] for char in seq_in])\n",
        "\tdatay.append(char_to_int[seq_out])\n",
        "\n",
        "print(len(datax[0]),len(datax),len(datay))\n",
        "\n",
        "dataX=datax[0:100000]\n",
        "dataY=datay[0:100000]\n",
        "n_patterns = len(dataX)\n",
        "print(\"Total Patterns: \", n_patterns)\n",
        "def generator(X_data, y_data, batch_size):\n",
        "  samples_per_epoch = 100000\n",
        "  number_of_batches = samples_per_epoch/batch_size\n",
        "  counter=0\n",
        "\n",
        "  while 1:\n",
        "    X_batch = X_data[batch_size*counter:batch_size*(counter+1)]\n",
        "    y_batch = y_data[batch_size*counter:batch_size*(counter+1)]\n",
        "    counter += 1\n",
        "    yield X_batch,y_batch\n",
        "    #restart counter to yeild data in the next epoch as well\n",
        "    if counter >= number_of_batches:\n",
        "        counter = 0\n",
        "# reshape X to be [samples, time steps, features]\n",
        "X = np.reshape(dataX, (n_patterns, seq_length, 1))\n",
        "# normalize\n",
        "X = X / float(n_vocab)\n",
        "# one hot encode the output variable\n",
        "y = np_utils.to_categorical(dataY)\n",
        "y.shape"
      ],
      "execution_count": 4,
      "outputs": [
        {
          "output_type": "stream",
          "text": [
            "16090\n",
            "Total Characters:  793174\n",
            "Total Vocab:  16090\n",
            "5 793169 793169\n",
            "Total Patterns:  100000\n"
          ],
          "name": "stdout"
        },
        {
          "output_type": "execute_result",
          "data": {
            "text/plain": [
              "(100000, 16090)"
            ]
          },
          "metadata": {
            "tags": []
          },
          "execution_count": 4
        }
      ]
    },
    {
      "cell_type": "code",
      "metadata": {
        "id": "3QbyUukmnBQL",
        "colab_type": "code",
        "outputId": "ecc5576a-978f-42c8-8d37-de114ff488dd",
        "colab": {
          "base_uri": "https://localhost:8080/",
          "height": 1000
        }
      },
      "source": [
        "# define the LSTM model\n",
        "model = Sequential()\n",
        "model.add(LSTM(256, input_shape=(X.shape[1], X.shape[2]), return_sequences=True))\n",
        "model.add(Dropout(0.2))\n",
        "model.add(LSTM(256))\n",
        "model.add(Dropout(0.2))\n",
        "model.add(Dense(y.shape[1], activation='softmax'))\n",
        "model.compile(loss='categorical_crossentropy', optimizer='adam')\n",
        "# define the checkpoint\n",
        "filepath=\"weight2.hdf5\"\n",
        "checkpoint = ModelCheckpoint(filepath, monitor='loss', verbose=1, save_best_only=True, mode='min')\n",
        "callbacks_list = [checkpoint]\n",
        "# fit the model\n",
        "model.fit_generator(generator(X, y, batch_size = 64),steps_per_epoch = len(X) //64,\n",
        " epochs = 50,callbacks=callbacks_list)"
      ],
      "execution_count": 0,
      "outputs": [
        {
          "output_type": "stream",
          "text": [
            "Epoch 1/50\n",
            "1562/1562 [==============================] - 52s 34ms/step - loss: 6.2992\n",
            "\n",
            "Epoch 00001: loss improved from inf to 6.29921, saving model to weight2.hdf5\n",
            "Epoch 2/50\n",
            "1562/1562 [==============================] - 50s 32ms/step - loss: 6.0499\n",
            "\n",
            "Epoch 00002: loss improved from 6.29921 to 6.04951, saving model to weight2.hdf5\n",
            "Epoch 3/50\n",
            "1562/1562 [==============================] - 51s 32ms/step - loss: 6.0040\n",
            "\n",
            "Epoch 00003: loss improved from 6.04951 to 6.00368, saving model to weight2.hdf5\n",
            "Epoch 4/50\n",
            "1562/1562 [==============================] - 50s 32ms/step - loss: 6.0067\n",
            "\n",
            "Epoch 00004: loss did not improve from 6.00368\n",
            "Epoch 5/50\n",
            "1562/1562 [==============================] - 50s 32ms/step - loss: 5.8302\n",
            "\n",
            "Epoch 00005: loss improved from 6.00368 to 5.83001, saving model to weight2.hdf5\n",
            "Epoch 6/50\n",
            "1562/1562 [==============================] - 51s 32ms/step - loss: 5.6225\n",
            "\n",
            "Epoch 00006: loss improved from 5.83001 to 5.62229, saving model to weight2.hdf5\n",
            "Epoch 7/50\n",
            "1562/1562 [==============================] - 51s 32ms/step - loss: 5.4893\n",
            "\n",
            "Epoch 00007: loss improved from 5.62229 to 5.48908, saving model to weight2.hdf5\n",
            "Epoch 8/50\n",
            "1562/1562 [==============================] - 50s 32ms/step - loss: 5.3744\n",
            "\n",
            "Epoch 00008: loss improved from 5.48908 to 5.37422, saving model to weight2.hdf5\n",
            "Epoch 9/50\n",
            "1562/1562 [==============================] - 50s 32ms/step - loss: 5.2697\n",
            "\n",
            "Epoch 00009: loss improved from 5.37422 to 5.26958, saving model to weight2.hdf5\n",
            "Epoch 10/50\n",
            "1562/1562 [==============================] - 50s 32ms/step - loss: 5.1758\n",
            "\n",
            "Epoch 00010: loss improved from 5.26958 to 5.17567, saving model to weight2.hdf5\n",
            "Epoch 11/50\n",
            "1562/1562 [==============================] - 51s 32ms/step - loss: 5.0925\n",
            "\n",
            "Epoch 00011: loss improved from 5.17567 to 5.09249, saving model to weight2.hdf5\n",
            "Epoch 12/50\n",
            "1562/1562 [==============================] - 50s 32ms/step - loss: 5.0080\n",
            "\n",
            "Epoch 00012: loss improved from 5.09249 to 5.00798, saving model to weight2.hdf5\n",
            "Epoch 13/50\n",
            "1562/1562 [==============================] - 51s 33ms/step - loss: 4.9317\n",
            "\n",
            "Epoch 00013: loss improved from 5.00798 to 4.93171, saving model to weight2.hdf5\n",
            "Epoch 14/50\n",
            "1562/1562 [==============================] - 50s 32ms/step - loss: 4.8642\n",
            "\n",
            "Epoch 00014: loss improved from 4.93171 to 4.86430, saving model to weight2.hdf5\n",
            "Epoch 15/50\n",
            "1562/1562 [==============================] - 50s 32ms/step - loss: 4.8041\n",
            "\n",
            "Epoch 00015: loss improved from 4.86430 to 4.80416, saving model to weight2.hdf5\n",
            "Epoch 16/50\n",
            " 369/1562 [======>.......................] - ETA: 38s - loss: 4.7633"
          ],
          "name": "stdout"
        }
      ]
    },
    {
      "cell_type": "code",
      "metadata": {
        "id": "Z-sUBZfNj4a7",
        "colab_type": "code",
        "outputId": "51eb01f2-0bda-4adf-a511-c014b4c79c38",
        "colab": {
          "base_uri": "https://localhost:8080/",
          "height": 122
        }
      },
      "source": [
        "\n",
        "# load the network weights\n",
        "\n",
        "filename = \"weight2.hdf5\"\n",
        "model.load_weights(filename)\n",
        "model.compile(loss='categorical_crossentropy', optimizer='adam')\n",
        "# pick a random seed\n",
        "start = np.random.randint(0, len(dataX)-1)\n",
        "pattern = dataX[start]\n",
        "print(start)\n",
        "print(pattern)\n",
        "\n",
        "pre=\" \"\n",
        "for i in range(100):\n",
        "\tx = np.reshape(pattern, (1, len(pattern), 1))\n",
        "\tx = x / float(n_vocab)\n",
        "\tprediction = model.predict(x, verbose=0)\n",
        "\tindex = np.argmax(prediction)\n",
        "\tresult = int_to_char[index]\n",
        "\tpre=pre+result+\" \"\n",
        "\tseq_in = [int_to_char[value] for value in pattern]\n",
        "\tpattern.append(index)\n",
        "\tpattern = pattern[1:len(pattern)]\n",
        "print(pre)\n",
        "print(\"\\nDone.\")"
      ],
      "execution_count": 8,
      "outputs": [
        {
          "output_type": "stream",
          "text": [
            "41137\n",
            "[10615, 2324, 10867, 7426, 11559]\n",
            " , and , and , and , and , and , and , and , and , and , and , and , and , and , and , and , and , and , and , and , and , and , and , and , and , and , and , and , and , and , and , and , and , and , and , and , and , and , and , and , and , and , and , and , and , and , and , and , and , and , and \n",
            "\n",
            "Done.\n"
          ],
          "name": "stdout"
        }
      ]
    }
  ]
}